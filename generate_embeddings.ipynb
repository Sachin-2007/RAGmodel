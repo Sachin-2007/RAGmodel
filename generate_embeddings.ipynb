{
 "cells": [
  {
   "cell_type": "code",
   "execution_count": 1,
   "id": "96f5cb8b-e0af-46df-8c8b-07aba38dfad8",
   "metadata": {},
   "outputs": [],
   "source": [
    "from langchain.document_loaders import DirectoryLoader, TextLoader\n",
    "from langchain.text_splitter import RecursiveCharacterTextSplitter\n",
    "from langchain.vectorstores import Chroma\n",
    "from langchain_huggingface import HuggingFaceEmbeddings"
   ]
  },
  {
   "cell_type": "code",
   "execution_count": 2,
   "id": "fba62d01-b837-4342-b98c-335888e0e1ee",
   "metadata": {},
   "outputs": [
    {
     "name": "stderr",
     "output_type": "stream",
     "text": [
      "/home/sachin/new/lib/python3.10/site-packages/sentence_transformers/cross_encoder/CrossEncoder.py:13: TqdmWarning: IProgress not found. Please update jupyter and ipywidgets. See https://ipywidgets.readthedocs.io/en/stable/user_install.html\n",
      "  from tqdm.autonotebook import tqdm, trange\n",
      "/home/sachin/new/lib/python3.10/site-packages/transformers/tokenization_utils_base.py:1617: FutureWarning: `clean_up_tokenization_spaces` was not set. It will be set to `True` by default. This behavior will be deprecated in transformers v4.45, and will be then set to `False` by default. For more details check this issue: https://github.com/huggingface/transformers/issues/31884\n",
      "  warnings.warn(\n"
     ]
    }
   ],
   "source": [
    "embedder = HuggingFaceEmbeddings(model_name=\"all-mpnet-base-v2\")"
   ]
  },
  {
   "cell_type": "code",
   "execution_count": 11,
   "id": "2b81efc1-50ef-471a-a123-5063c8aba4b6",
   "metadata": {},
   "outputs": [],
   "source": [
    "def chunks_from_directory(chunk_size, dir_name):\n",
    "    loader = DirectoryLoader(dir_name, glob=\"**/*.txt\", loader_cls=TextLoader)\n",
    "    docs = loader.load()\n",
    "    splitter = RecursiveCharacterTextSplitter(chunk_size=chunk_size, chunk_overlap = 100)\n",
    "    chunks = splitter.split_documents(docs)\n",
    "    return chunks"
   ]
  },
  {
   "cell_type": "code",
   "execution_count": 12,
   "id": "23df5073-f806-4a7a-bd85-9577272fefeb",
   "metadata": {},
   "outputs": [],
   "source": [
    "def embed_to_vectordb(chunks, embedder, dir_name):\n",
    "    vectordb = Chroma.from_documents(chunks, embedder, persist_directory=dir_name)\n",
    "    return vectordb"
   ]
  },
  {
   "cell_type": "code",
   "execution_count": 14,
   "id": "8607ff96-8938-40fb-a02a-abc73f890337",
   "metadata": {},
   "outputs": [],
   "source": [
    "set1db = embed_to_vectordb(chunks_from_directory(800, 'set1'), embedder, 'set1db')"
   ]
  },
  {
   "cell_type": "code",
   "execution_count": 15,
   "id": "3c315c93-032b-4372-a1ce-8c12ccb257e5",
   "metadata": {},
   "outputs": [],
   "source": [
    "set2db = embed_to_vectordb(chunks_from_directory(800, 'set2'), embedder, 'set2db')"
   ]
  }
 ],
 "metadata": {
  "kernelspec": {
   "display_name": "Python 3 (ipykernel)",
   "language": "python",
   "name": "python3"
  },
  "language_info": {
   "codemirror_mode": {
    "name": "ipython",
    "version": 3
   },
   "file_extension": ".py",
   "mimetype": "text/x-python",
   "name": "python",
   "nbconvert_exporter": "python",
   "pygments_lexer": "ipython3",
   "version": "3.10.15"
  }
 },
 "nbformat": 4,
 "nbformat_minor": 5
}
